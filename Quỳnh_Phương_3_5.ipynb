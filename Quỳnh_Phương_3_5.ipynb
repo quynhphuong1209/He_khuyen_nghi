{
  "nbformat": 4,
  "nbformat_minor": 0,
  "metadata": {
    "colab": {
      "provenance": []
    },
    "kernelspec": {
      "name": "python3",
      "display_name": "Python 3"
    },
    "language_info": {
      "name": "python"
    }
  },
  "cells": [
    {
      "cell_type": "markdown",
      "source": [
        "# =============================\n",
        "# BÀI TẬP 5: Ứng dụng trong y tế - Khuyến nghị phác đồ điều trị dựa trên luật kết hợp\n",
        "# ============================="
      ],
      "metadata": {
        "id": "vdqdrvEucWZH"
      }
    },
    {
      "cell_type": "code",
      "source": [
        "import pandas as pd\n",
        "import numpy as np\n",
        "from mlxtend.frequent_patterns import apriori, association_rules\n",
        "from mlxtend.preprocessing import TransactionEncoder\n",
        "import matplotlib.pyplot as plt\n",
        "import seaborn as sns"
      ],
      "metadata": {
        "id": "8OmyZYUacYhg"
      },
      "execution_count": 1,
      "outputs": []
    },
    {
      "cell_type": "code",
      "execution_count": 2,
      "metadata": {
        "id": "lpN3Ln1-cS8x"
      },
      "outputs": [],
      "source": [
        "# Tạo dữ liệu giả lập\n",
        "np.random.seed(42)\n",
        "\n",
        "# Tạo thông tin bệnh nhân\n",
        "n_patients = 300\n",
        "patient_ids = [f'P{i}' for i in range(1, n_patients+1)]\n",
        "ages = np.random.randint(18, 90, size=n_patients)\n",
        "genders = np.random.choice(['Nam', 'Nữ'], size=n_patients)\n",
        "conditions = np.random.choice(['Tim mạch', 'Hô hấp', 'Tiêu hóa', 'Thần kinh', 'Nội tiết'],\n",
        "                             size=n_patients)\n",
        "\n",
        "patients = pd.DataFrame({\n",
        "    'PatientID': patient_ids,\n",
        "    'Age': ages,\n",
        "    'Gender': genders,\n",
        "    'Condition': conditions\n",
        "})\n",
        "\n",
        "# Tạo danh sách phương pháp điều trị\n",
        "treatments = [f'T{i}' for i in range(1, 51)]\n",
        "# Tần suất sử dụng các phương pháp điều trị (ví dụ)\n",
        "treatment_frequencies = {\n",
        "    'Tim mạch': {t: 0.2 for t in treatments[:10]},\n",
        "    'Hô hấp': {t: 0.15 for t in treatments[10:20]},\n",
        "    'Tiêu hóa': {t: 0.25 for t in treatments[20:30]},\n",
        "    'Thần kinh': {t: 0.18 for t in treatments[30:40]},\n",
        "    'Nội tiết': {t: 0.22 for t in treatments[40:50]}\n",
        "}\n",
        "\n",
        "# Mối quan hệ giữa bệnh lý và kết quả điều trị (ví dụ)\n",
        "condition_outcome_probs = {\n",
        "    'Tim mạch': {'T1': 0.7, 'T2': 0.6, 'T3': 0.8, 'T4': 0.5, 'T5': 0.7, 'T6': 0.6, 'T7': 0.9, 'T8': 0.8, 'T9': 0.7, 'T10': 0.6},\n",
        "    'Hô hấp': {'T11': 0.65, 'T12': 0.75, 'T13': 0.85, 'T14': 0.55, 'T15': 0.65, 'T16': 0.75, 'T17': 0.85, 'T18': 0.9, 'T19': 0.6, 'T20': 0.7},\n",
        "    'Tiêu hóa': {'T21': 0.8, 'T22': 0.7, 'T23': 0.6, 'T24': 0.9, 'T25': 0.8, 'T26': 0.7, 'T27': 0.6, 'T28': 0.9, 'T29': 0.8, 'T30': 0.7},\n",
        "    'Thần kinh': {'T31': 0.5, 'T32': 0.6, 'T33': 0.7, 'T34': 0.8, 'T35': 0.9, 'T36': 0.55, 'T37': 0.65, 'T38': 0.75, 'T39': 0.85, 'T40': 0.95},\n",
        "    'Nội tiết': {'T41': 0.75, 'T42': 0.85, 'T43': 0.65, 'T44': 0.75, 'T45': 0.85, 'T46': 0.9, 'T47': 0.8, 'T48': 0.7, 'T49': 0.6, 'T50': 0.95}\n",
        "}"
      ]
    },
    {
      "cell_type": "code",
      "source": [
        "# TODO: Tạo lịch sử điều trị cho mỗi bệnh nhân\n",
        "# 1. Mỗi bệnh nhân có 3-10 phương pháp điều trị\n",
        "treatment_history = {}\n",
        "treatment_outcomes = {}  # Thêm dictionary này\n",
        "for i, patient in enumerate(patient_ids):\n",
        "    condition = patients.loc[i, 'Condition']\n",
        "    available_treatments = list(condition_outcome_probs[condition].keys())\n",
        "    num_treatments = np.random.randint(3, 8)  # Giảm số lượng treatments\n",
        "    patient_treatments = np.random.choice(available_treatments, size=num_treatments, replace=False)\n",
        "    treatment_history[patient] = patient_treatments\n",
        "\n",
        "    # Gán kết quả điều trị dựa trên xác suất\n",
        "    outcomes = []\n",
        "    for treatment in patient_treatments:\n",
        "        prob_success = condition_outcome_probs[condition][treatment]\n",
        "        outcome = 'Thành công' if np.random.rand() < prob_success else 'Thất bại'\n",
        "        outcomes.append(outcome)\n",
        "    treatment_outcomes[patient] = list(zip(patient_treatments, outcomes))\n",
        "\n",
        "\n",
        "# In ra một vài ví dụ\n",
        "print(\"Ví dụ về lịch sử điều trị:\")\n",
        "for i, patient in enumerate(list(treatment_history.keys())[:3]):\n",
        "    print(f\"- Bệnh nhân {patient}: {treatment_history[patient]}\")\n",
        "\n",
        "print(\"\\nVí dụ về kết quả điều trị:\")\n",
        "for i, patient in enumerate(list(treatment_outcomes.keys())[:3]):\n",
        "    print(f\"- Bệnh nhân {patient}: {treatment_outcomes[patient]}\")"
      ],
      "metadata": {
        "id": "vnU5T6EZcZxx",
        "colab": {
          "base_uri": "https://localhost:8080/"
        },
        "outputId": "0663aa38-3e51-495f-d774-edb6ab026d63"
      },
      "execution_count": 3,
      "outputs": [
        {
          "output_type": "stream",
          "name": "stdout",
          "text": [
            "Ví dụ về lịch sử điều trị:\n",
            "- Bệnh nhân P1: ['T45' 'T48' 'T43']\n",
            "- Bệnh nhân P2: ['T33' 'T34' 'T39' 'T32']\n",
            "- Bệnh nhân P3: ['T41' 'T42' 'T48']\n",
            "\n",
            "Ví dụ về kết quả điều trị:\n",
            "- Bệnh nhân P1: [(np.str_('T45'), 'Thành công'), (np.str_('T48'), 'Thành công'), (np.str_('T43'), 'Thành công')]\n",
            "- Bệnh nhân P2: [(np.str_('T33'), 'Thành công'), (np.str_('T34'), 'Thành công'), (np.str_('T39'), 'Thất bại'), (np.str_('T32'), 'Thành công')]\n",
            "- Bệnh nhân P3: [(np.str_('T41'), 'Thành công'), (np.str_('T42'), 'Thất bại'), (np.str_('T48'), 'Thất bại')]\n"
          ]
        }
      ]
    },
    {
      "cell_type": "code",
      "source": [
        "# 2. Phương pháp điều trị phụ thuộc vào bệnh lý\n",
        "condition_treatments = {\n",
        "    'Tim mạch': treatments[:10],\n",
        "    'Hô hấp': treatments[10:20],\n",
        "    'Tiêu hóa': treatments[20:30],\n",
        "    'Thần kinh': treatments[30:40],\n",
        "    'Nội tiết': treatments[40:50]\n",
        "}\n",
        "for patient, condition in zip(patient_ids, patients['Condition']):\n",
        "    available_treatments = condition_treatments[condition]\n",
        "    num_treatments = len(treatment_history[patient])\n",
        "    treatment_history[patient] = np.random.choice(available_treatments, size=num_treatments, replace=True)\n",
        "\n",
        "# In ra lịch sử điều trị sau khi cập nhật theo bệnh lý\n",
        "print(\"\\nLịch sử điều trị sau khi phụ thuộc vào bệnh lý:\")\n",
        "for i, patient in enumerate(list(treatment_history.keys())[:5]):\n",
        "    print(f\"- Bệnh nhân {patient}: {treatment_history[patient]}\")"
      ],
      "metadata": {
        "colab": {
          "base_uri": "https://localhost:8080/"
        },
        "id": "vkdtbtvuzgHA",
        "outputId": "18160444-124d-4068-9436-3e9b7f93fa3e"
      },
      "execution_count": 4,
      "outputs": [
        {
          "output_type": "stream",
          "name": "stdout",
          "text": [
            "\n",
            "Lịch sử điều trị sau khi phụ thuộc vào bệnh lý:\n",
            "- Bệnh nhân P1: ['T41' 'T45' 'T43']\n",
            "- Bệnh nhân P2: ['T31' 'T33' 'T36' 'T37']\n",
            "- Bệnh nhân P3: ['T48' 'T44' 'T43']\n",
            "- Bệnh nhân P4: ['T5' 'T9' 'T6']\n",
            "- Bệnh nhân P5: ['T49' 'T46' 'T42' 'T45']\n"
          ]
        }
      ]
    },
    {
      "cell_type": "code",
      "source": [
        "# 3. Gán kết quả điều trị (thành công/thất bại)\n",
        "treatment_outcomes = {}\n",
        "for patient in patient_ids:\n",
        "    patient_treatments = treatment_history[patient]\n",
        "    outcomes = np.random.choice(['Thành công', 'Thất bại'], size=len(patient_treatments))\n",
        "    treatment_outcomes[patient] = list(zip(patient_treatments, outcomes))\n",
        "\n",
        "# In ra một vài ví dụ về kết quả điều trị\n",
        "print(\"\\nVí dụ về kết quả điều trị:\")\n",
        "for i, patient in enumerate(list(treatment_outcomes.keys())[:5]):\n",
        "    print(f\"- Bệnh nhân {patient}: {treatment_outcomes[patient]}\")\n",
        "\n",
        "# Chuyển đổi dữ liệu lịch sử điều trị thành DataFrame\n",
        "treatment_history_list = []\n",
        "for patient, treatments in treatment_history.items():\n",
        "    treatment_history_list.append(list(treatments))\n",
        "\n",
        "# In ra danh sách lịch sử điều trị\n",
        "print(\"\\nDanh sách lịch sử điều trị:\")\n",
        "print(treatment_history_list[:5])  # In 5 danh sách đầu tiên"
      ],
      "metadata": {
        "colab": {
          "base_uri": "https://localhost:8080/"
        },
        "id": "GwjyXc6Fzhme",
        "outputId": "c20af520-b881-4dcc-849f-5a289189be51"
      },
      "execution_count": 5,
      "outputs": [
        {
          "output_type": "stream",
          "name": "stdout",
          "text": [
            "\n",
            "Ví dụ về kết quả điều trị:\n",
            "- Bệnh nhân P1: [(np.str_('T41'), np.str_('Thành công')), (np.str_('T45'), np.str_('Thành công')), (np.str_('T43'), np.str_('Thành công'))]\n",
            "- Bệnh nhân P2: [(np.str_('T31'), np.str_('Thành công')), (np.str_('T33'), np.str_('Thành công')), (np.str_('T36'), np.str_('Thành công')), (np.str_('T37'), np.str_('Thất bại'))]\n",
            "- Bệnh nhân P3: [(np.str_('T48'), np.str_('Thành công')), (np.str_('T44'), np.str_('Thành công')), (np.str_('T43'), np.str_('Thất bại'))]\n",
            "- Bệnh nhân P4: [(np.str_('T5'), np.str_('Thành công')), (np.str_('T9'), np.str_('Thất bại')), (np.str_('T6'), np.str_('Thành công'))]\n",
            "- Bệnh nhân P5: [(np.str_('T49'), np.str_('Thất bại')), (np.str_('T46'), np.str_('Thất bại')), (np.str_('T42'), np.str_('Thành công')), (np.str_('T45'), np.str_('Thất bại'))]\n",
            "\n",
            "Danh sách lịch sử điều trị:\n",
            "[[np.str_('T41'), np.str_('T45'), np.str_('T43')], [np.str_('T31'), np.str_('T33'), np.str_('T36'), np.str_('T37')], [np.str_('T48'), np.str_('T44'), np.str_('T43')], [np.str_('T5'), np.str_('T9'), np.str_('T6')], [np.str_('T49'), np.str_('T46'), np.str_('T42'), np.str_('T45')]]\n"
          ]
        }
      ]
    },
    {
      "cell_type": "code",
      "source": [
        "# TODO: Chuyển đổi lịch sử điều trị thành dữ liệu giao dịch\n",
        "# 1. Mỗi bệnh nhân là một giao dịch\n",
        "treatment_history_list = []\n",
        "for patient, treatments in treatment_history.items():  # Giả sử treatment_history đã được tạo ở trên\n",
        "    treatment_history_list.append(list(treatments))\n",
        "\n",
        "# In ra một vài ví dụ về treatment_history_list\n",
        "print(\"\\nVí dụ về treatment_history_list (5 giao dịch đầu):\")\n",
        "for i, transaction in enumerate(treatment_history_list[:5]):\n",
        "    print(f\"- Giao dịch {i+1}: {transaction}\")\n"
      ],
      "metadata": {
        "id": "UeRJzBpncbB8",
        "colab": {
          "base_uri": "https://localhost:8080/"
        },
        "outputId": "452d6659-3461-445a-870d-6ce509abed7c"
      },
      "execution_count": 6,
      "outputs": [
        {
          "output_type": "stream",
          "name": "stdout",
          "text": [
            "\n",
            "Ví dụ về treatment_history_list (5 giao dịch đầu):\n",
            "- Giao dịch 1: [np.str_('T41'), np.str_('T45'), np.str_('T43')]\n",
            "- Giao dịch 2: [np.str_('T31'), np.str_('T33'), np.str_('T36'), np.str_('T37')]\n",
            "- Giao dịch 3: [np.str_('T48'), np.str_('T44'), np.str_('T43')]\n",
            "- Giao dịch 4: [np.str_('T5'), np.str_('T9'), np.str_('T6')]\n",
            "- Giao dịch 5: [np.str_('T49'), np.str_('T46'), np.str_('T42'), np.str_('T45')]\n"
          ]
        }
      ]
    },
    {
      "cell_type": "code",
      "source": [
        "# 2. Các phương pháp điều trị là các mục\n",
        "te = TransactionEncoder()\n",
        "te_ary = te.fit(treatment_history_list).transform(treatment_history_list)\n",
        "transaction_df = pd.DataFrame(te_ary, columns=te.columns_)\n",
        "\n",
        "# In ra DataFrame giao dịch\n",
        "print(\"\\nDataFrame giao dịch (10 hàng đầu):\")\n",
        "print(transaction_df.head(10))\n",
        "\n",
        "# In ra thông tin về shape của DataFrame\n",
        "print(\"\\nShape của DataFrame giao dịch:\", transaction_df.shape)"
      ],
      "metadata": {
        "colab": {
          "base_uri": "https://localhost:8080/"
        },
        "id": "Fpv99PVvzjKq",
        "outputId": "af46dffb-fbc7-4ec1-91bc-aa867a812d25"
      },
      "execution_count": 7,
      "outputs": [
        {
          "output_type": "stream",
          "name": "stdout",
          "text": [
            "\n",
            "DataFrame giao dịch (10 hàng đầu):\n",
            "      T1    T10    T11    T12    T13    T14    T15    T16    T17    T18  ...  \\\n",
            "0  False  False  False  False  False  False  False  False  False  False  ...   \n",
            "1  False  False  False  False  False  False  False  False  False  False  ...   \n",
            "2  False  False  False  False  False  False  False  False  False  False  ...   \n",
            "3  False  False  False  False  False  False  False  False  False  False  ...   \n",
            "4  False  False  False  False  False  False  False  False  False  False  ...   \n",
            "5  False  False  False  False  False  False  False  False  False  False  ...   \n",
            "6  False  False  False  False  False  False  False   True   True   True  ...   \n",
            "7  False  False   True  False   True   True   True  False  False  False  ...   \n",
            "8  False  False   True   True  False   True  False   True  False  False  ...   \n",
            "9  False  False  False  False  False  False  False  False  False  False  ...   \n",
            "\n",
            "     T46    T47    T48    T49     T5    T50     T6     T7     T8     T9  \n",
            "0  False  False  False  False  False  False  False  False  False  False  \n",
            "1  False  False  False  False  False  False  False  False  False  False  \n",
            "2  False  False   True  False  False  False  False  False  False  False  \n",
            "3  False  False  False  False   True  False   True  False  False   True  \n",
            "4   True  False  False   True  False  False  False  False  False  False  \n",
            "5  False   True   True   True  False  False  False  False  False  False  \n",
            "6  False  False  False  False  False  False  False  False  False  False  \n",
            "7  False  False  False  False  False  False  False  False  False  False  \n",
            "8  False  False  False  False  False  False  False  False  False  False  \n",
            "9  False  False   True  False  False  False  False  False  False  False  \n",
            "\n",
            "[10 rows x 50 columns]\n",
            "\n",
            "Shape của DataFrame giao dịch: (300, 50)\n"
          ]
        }
      ]
    },
    {
      "cell_type": "code",
      "source": [
        "# TODO: Áp dụng thuật toán Apriori và tạo luật kết hợp\n",
        "# 1. Tìm các mẫu hình điều trị phổ biến\n",
        "frequent_itemsets = apriori(transaction_df, min_support=0.01, use_colnames=True)\n",
        "\n",
        "# In ra các tập phổ biến\n",
        "print(\"\\nCác tập phổ biến (10 hàng đầu):\")\n",
        "print(frequent_itemsets.head(10))\n",
        "\n"
      ],
      "metadata": {
        "id": "c9bcF9FGcb9U",
        "colab": {
          "base_uri": "https://localhost:8080/"
        },
        "outputId": "17de0a57-7a86-4994-80a2-b56621ed683d"
      },
      "execution_count": 8,
      "outputs": [
        {
          "output_type": "stream",
          "name": "stdout",
          "text": [
            "\n",
            "Các tập phổ biến (10 hàng đầu):\n",
            "    support itemsets\n",
            "0  0.086667     (T1)\n",
            "1  0.090000    (T10)\n",
            "2  0.086667    (T11)\n",
            "3  0.083333    (T12)\n",
            "4  0.066667    (T13)\n",
            "5  0.076667    (T14)\n",
            "6  0.080000    (T15)\n",
            "7  0.090000    (T16)\n",
            "8  0.080000    (T17)\n",
            "9  0.080000    (T18)\n"
          ]
        }
      ]
    },
    {
      "cell_type": "code",
      "source": [
        "# 2. Tạo luật kết hợp\n",
        "rules = association_rules(frequent_itemsets, metric=\"lift\", min_threshold=1)\n",
        "\n",
        "# In ra các luật kết hợp\n",
        "print(\"\\nCác luật kết hợp (10 hàng đầu):\")\n",
        "print(rules.head(10))"
      ],
      "metadata": {
        "colab": {
          "base_uri": "https://localhost:8080/"
        },
        "id": "pS_tGQL1zk-d",
        "outputId": "134a71ae-cbf5-4c51-89f3-a4689a34530a"
      },
      "execution_count": 9,
      "outputs": [
        {
          "output_type": "stream",
          "name": "stdout",
          "text": [
            "\n",
            "Các luật kết hợp (10 hàng đầu):\n",
            "  antecedents consequents  antecedent support  consequent support   support  \\\n",
            "0        (T1)       (T10)            0.086667            0.090000  0.050000   \n",
            "1       (T10)        (T1)            0.090000            0.086667  0.050000   \n",
            "2        (T1)        (T2)            0.086667            0.080000  0.030000   \n",
            "3        (T2)        (T1)            0.080000            0.086667  0.030000   \n",
            "4        (T1)        (T3)            0.086667            0.063333  0.026667   \n",
            "5        (T3)        (T1)            0.063333            0.086667  0.026667   \n",
            "6        (T1)        (T4)            0.086667            0.080000  0.026667   \n",
            "7        (T4)        (T1)            0.080000            0.086667  0.026667   \n",
            "8        (T1)        (T5)            0.086667            0.073333  0.043333   \n",
            "9        (T5)        (T1)            0.073333            0.086667  0.043333   \n",
            "\n",
            "   confidence      lift  representativity  leverage  conviction  \\\n",
            "0    0.576923  6.410256               1.0  0.042200    2.150909   \n",
            "1    0.555556  6.410256               1.0  0.042200    2.055000   \n",
            "2    0.346154  4.326923               1.0  0.023067    1.407059   \n",
            "3    0.375000  4.326923               1.0  0.023067    1.461333   \n",
            "4    0.307692  4.858300               1.0  0.021178    1.352963   \n",
            "5    0.421053  4.858300               1.0  0.021178    1.577576   \n",
            "6    0.307692  3.846154               1.0  0.019733    1.328889   \n",
            "7    0.333333  3.846154               1.0  0.019733    1.370000   \n",
            "8    0.500000  6.818182               1.0  0.036978    1.853333   \n",
            "9    0.590909  6.818182               1.0  0.036978    2.232593   \n",
            "\n",
            "   zhangs_metric   jaccard  certainty  kulczynski  \n",
            "0       0.924088  0.394737   0.535080    0.566239  \n",
            "1       0.927473  0.394737   0.513382    0.566239  \n",
            "2       0.841849  0.219512   0.289298    0.360577  \n",
            "3       0.835749  0.219512   0.315693    0.360577  \n",
            "4       0.869526  0.216216   0.260881    0.364372  \n",
            "5       0.847865  0.216216   0.366116    0.364372  \n",
            "6       0.810219  0.190476   0.247492    0.320513  \n",
            "7       0.804348  0.190476   0.270073    0.320513  \n",
            "8       0.934307  0.371429   0.460432    0.545455  \n",
            "9       0.920863  0.371429   0.552090    0.545455  \n"
          ]
        }
      ]
    },
    {
      "cell_type": "code",
      "source": [
        "# 3. Lọc các luật dựa trên kết quả điều trị\n",
        "successful_treatments = {}\n",
        "for patient, outcomes in treatment_outcomes.items():\n",
        "    successful_treatments[patient] = [treatment for treatment, outcome in outcomes if outcome == 'Thành công']\n",
        "\n",
        "filtered_rules = rules.copy()  # Ban đầu giữ lại tất cả các luật\n",
        "for i, rule in rules.iterrows():\n",
        "    antecedents = set(rule['antecedents'])\n",
        "    successful_antecedent_counts = 0\n",
        "    total_antecedent_occurrences = 0\n",
        "    for patient, treatments in treatment_history.items():\n",
        "        if antecedents.issubset(treatments):\n",
        "            total_antecedent_occurrences += 1\n",
        "            if all(treatment in successful_treatments.get(patient, []) for treatment in antecedents):\n",
        "                successful_antecedent_counts += 1\n",
        "    # Lọc luật nếu tỷ lệ thành công của antecedent dưới một ngưỡng nhất định (ví dụ: 0.5)\n",
        "    if total_antecedent_occurrences > 0 and successful_antecedent_counts / total_antecedent_occurrences < 0.5:\n",
        "        filtered_rules.drop(i, inplace=True, errors='ignore')\n",
        "\n",
        "# In ra các luật sau khi lọc\n",
        "print(\"\\nCác luật kết hợp sau khi lọc (10 hàng đầu):\")\n",
        "print(filtered_rules.head(10))\n",
        "\n",
        "# In ra shape của luật trước và sau khi lọc\n",
        "print(\"\\nSố lượng luật trước khi lọc:\", rules.shape[0])\n",
        "print(\"Số lượng luật sau khi lọc:\", filtered_rules.shape[0])"
      ],
      "metadata": {
        "colab": {
          "base_uri": "https://localhost:8080/"
        },
        "id": "JeLd9fcDzmak",
        "outputId": "8fc45126-b27c-4f81-8f4e-8ce7d49b04a7"
      },
      "execution_count": 10,
      "outputs": [
        {
          "output_type": "stream",
          "name": "stdout",
          "text": [
            "\n",
            "Các luật kết hợp sau khi lọc (10 hàng đầu):\n",
            "   antecedents consequents  antecedent support  consequent support   support  \\\n",
            "0         (T1)       (T10)            0.086667            0.090000  0.050000   \n",
            "1        (T10)        (T1)            0.090000            0.086667  0.050000   \n",
            "2         (T1)        (T2)            0.086667            0.080000  0.030000   \n",
            "4         (T1)        (T3)            0.086667            0.063333  0.026667   \n",
            "5         (T3)        (T1)            0.063333            0.086667  0.026667   \n",
            "6         (T1)        (T4)            0.086667            0.080000  0.026667   \n",
            "8         (T1)        (T5)            0.086667            0.073333  0.043333   \n",
            "9         (T5)        (T1)            0.073333            0.086667  0.043333   \n",
            "10        (T1)        (T6)            0.086667            0.073333  0.023333   \n",
            "11        (T6)        (T1)            0.073333            0.086667  0.023333   \n",
            "\n",
            "    confidence      lift  representativity  leverage  conviction  \\\n",
            "0     0.576923  6.410256               1.0  0.042200    2.150909   \n",
            "1     0.555556  6.410256               1.0  0.042200    2.055000   \n",
            "2     0.346154  4.326923               1.0  0.023067    1.407059   \n",
            "4     0.307692  4.858300               1.0  0.021178    1.352963   \n",
            "5     0.421053  4.858300               1.0  0.021178    1.577576   \n",
            "6     0.307692  3.846154               1.0  0.019733    1.328889   \n",
            "8     0.500000  6.818182               1.0  0.036978    1.853333   \n",
            "9     0.590909  6.818182               1.0  0.036978    2.232593   \n",
            "10    0.269231  3.671329               1.0  0.016978    1.268070   \n",
            "11    0.318182  3.671329               1.0  0.016978    1.339556   \n",
            "\n",
            "    zhangs_metric   jaccard  certainty  kulczynski  \n",
            "0        0.924088  0.394737   0.535080    0.566239  \n",
            "1        0.927473  0.394737   0.513382    0.566239  \n",
            "2        0.841849  0.219512   0.289298    0.360577  \n",
            "4        0.869526  0.216216   0.260881    0.364372  \n",
            "5        0.847865  0.216216   0.366116    0.364372  \n",
            "6        0.810219  0.190476   0.247492    0.320513  \n",
            "8        0.934307  0.371429   0.460432    0.545455  \n",
            "9        0.920863  0.371429   0.552090    0.545455  \n",
            "10       0.796663  0.170732   0.211400    0.293706  \n",
            "11       0.785200  0.170732   0.253484    0.293706  \n",
            "\n",
            "Số lượng luật trước khi lọc: 3812\n",
            "Số lượng luật sau khi lọc: 1574\n"
          ]
        }
      ]
    },
    {
      "cell_type": "code",
      "source": [
        "# TODO: Xây dựng hệ khuyến nghị phác đồ điều trị\n",
        "# def recommend_treatment(patient_treatments, rules, top_n=5):\n",
        "#     recommendations = []\n",
        "#     for _, rule in rules.iterrows():\n",
        "#         antecedents = set(rule['antecedents'])\n",
        "#         if antecedents.issubset(patient_treatments):\n",
        "#             for treatment in rule['consequents']:\n",
        "#                 if treatment not in patient_treatments:\n",
        "#                     recommendations.append((treatment, rule['confidence'], rule['lift']))\n",
        "#\n",
        "#     # Sắp xếp theo độ tin cậy và độ nâng\n",
        "#     recommendations.sort(key=lambda x: (x[1], x[2]), reverse=True)\n",
        "#     return recommendations[:top_n]\n",
        "def recommend_treatment(patient_treatments, rules, top_n=5):\n",
        "    recommendations = []\n",
        "    for _, rule in rules.iterrows():\n",
        "        antecedents = set(rule['antecedents'])\n",
        "        if antecedents.issubset(patient_treatments):\n",
        "            for treatment in rule['consequents']:\n",
        "                if treatment not in patient_treatments:\n",
        "                    recommendations.append((treatment, rule['confidence'], rule['lift']))\n",
        "\n",
        "    # Sắp xếp theo độ tin cậy và độ nâng\n",
        "    recommendations.sort(key=lambda x: (x[1], x[2]), reverse=True)\n",
        "    return recommendations[:top_n]\n",
        "\n",
        "# Ví dụ sử dụng hệ khuyến nghị\n",
        "patient_id_to_recommend = 'P1'\n",
        "treatments_for_patient = treatment_history[patient_id_to_recommend]\n",
        "\n",
        "# Kiểm tra xem có luật nào không\n",
        "if filtered_rules.shape[0] == 0:\n",
        "    print(\"\\nKhông có luật kết hợp nào được tạo ra sau khi lọc. Cần xem xét lại các tham số Apriori hoặc dữ liệu.\")\n",
        "else:\n",
        "    print(f\"\\nSố lượng luật kết hợp sau khi lọc: {filtered_rules.shape[0]}\")\n",
        "    # In ra một vài luật có lift cao nhất (ví dụ)\n",
        "    top_lift_rules = filtered_rules.nlargest(5, 'lift')\n",
        "    print(\"\\nCác luật có lift cao nhất (5 luật đầu):\")\n",
        "    print(top_lift_rules[['antecedents', 'consequents', 'lift']].to_string())\n",
        "\n",
        "    top_recommendations = recommend_treatment(treatments_for_patient, filtered_rules)\n",
        "\n",
        "    if len(top_recommendations) > 0:\n",
        "        print(f\"\\nTop {len(top_recommendations)} Recommendations for Patient {patient_id_to_recommend}:\")\n",
        "        for treatment, confidence, lift in top_recommendations:\n",
        "            print(f\"- Treatment: {treatment}, Confidence: {confidence:.2f}, Lift: {lift:.2f}\")\n",
        "    else:\n",
        "        print(f\"\\nKhông có khuyến nghị nào cho bệnh nhân {patient_id_to_recommend} dựa trên các luật hiện có.\")\n",
        "\n"
      ],
      "metadata": {
        "id": "EWRhHwA_cc8J",
        "colab": {
          "base_uri": "https://localhost:8080/"
        },
        "outputId": "ac6dd408-b366-48a6-a20f-b8fdc0659f3c"
      },
      "execution_count": 11,
      "outputs": [
        {
          "output_type": "stream",
          "name": "stdout",
          "text": [
            "\n",
            "Số lượng luật kết hợp sau khi lọc: 1574\n",
            "\n",
            "Các luật có lift cao nhất (5 luật đầu):\n",
            "          antecedents      consequents       lift\n",
            "3130            (T34)  (T33, T31, T38)  18.750000\n",
            "3000       (T28, T26)       (T25, T23)  17.142857\n",
            "2920            (T22)  (T25, T27, T24)  15.789474\n",
            "3216  (T40, T36, T39)            (T35)  15.789474\n",
            "3229            (T35)  (T40, T36, T39)  15.789474\n",
            "\n",
            "Top 5 Recommendations for Patient P1:\n",
            "- Treatment: T47, Confidence: 0.67, Lift: 5.00\n",
            "- Treatment: T50, Confidence: 0.58, Lift: 5.83\n",
            "- Treatment: T47, Confidence: 0.52, Lift: 3.89\n",
            "- Treatment: T47, Confidence: 0.43, Lift: 3.21\n",
            "- Treatment: T50, Confidence: 0.42, Lift: 6.25\n"
          ]
        }
      ]
    },
    {
      "cell_type": "code",
      "source": [
        "# TODO: Đánh giá chất lượng khuyến nghị và phân tích kết quả\n",
        "def evaluate_recommendations(tracking_data, all_patient_ids, all_treatments):\n",
        "    total_recommendations = 0\n",
        "    applied_count = 0\n",
        "    successful_count = 0\n",
        "    failed_count = 0\n",
        "    not_applied_count = 0\n",
        "    unique_treatment_sets = set()  # Để theo dõi độ đa dạng\n",
        "    patient_with_recommendation_count = 0 # Đếm số bệnh nhân có khuyến nghị\n",
        "\n",
        "    for patient, recommendations in tracking_data.items():\n",
        "        total_recommendations += len(recommendations)\n",
        "        if recommendations: # Kiểm tra xem có khuyến nghị cho bệnh nhân này không\n",
        "            patient_with_recommendation_count += 1\n",
        "        for treatment, data in recommendations.items():\n",
        "            if data['status'] == 'Áp dụng':\n",
        "                applied_count += 1\n",
        "                if data['outcome'] == 'Thành công':\n",
        "                    successful_count += 1\n",
        "                elif data['outcome'] == 'Thất bại':\n",
        "                    failed_count += 1\n",
        "            elif data['status'] == 'Không áp dụng':\n",
        "                not_applied_count += 1\n",
        "            unique_treatment_sets.add(frozenset(recommendations.keys())) # Đóng băng set để hashable\n",
        "\n",
        "    accuracy = (successful_count / applied_count) * 100 if applied_count > 0 else 0\n",
        "    application_rate = (applied_count / total_recommendations) * 100 if total_recommendations > 0 else 0\n",
        "    success_rate = (successful_count / total_recommendations) * 100 if total_recommendations > 0 else 0\n",
        "    failure_rate = (failed_count / total_recommendations) * 100 if total_recommendations > 0 else 0\n",
        "    not_applied_rate = (not_applied_count / total_recommendations) * 100 if total_recommendations > 0 else 0\n",
        "    coverage = (patient_with_recommendation_count / len(all_patient_ids)) * 100 if all_patient_ids else 0\n",
        "    diversity = len(unique_treatment_sets)\n",
        "\n",
        "    # Tính độ mới lạ (ví dụ đơn giản: đếm số lượng khuyến nghị không phổ biến)\n",
        "    # (Cần dữ liệu về tần suất sử dụng các phương pháp điều trị trong thực tế)\n",
        "    novel_recommendations_count = 0\n",
        "    for patient, recommendations in tracking_data.items():\n",
        "        for treatment, data in recommendations.items():\n",
        "            # Giả sử có một hàm is_common_treatment(treatment)\n",
        "            # if not is_common_treatment(treatment):\n",
        "            #     novel_recommendations_count += 1\n",
        "            pass # Tạm thời bỏ qua phần này vì cần dữ liệu thực tế\n",
        "\n",
        "    novelty_rate = (novel_recommendations_count / total_recommendations) * 100 if total_recommendations > 0 else 0\n",
        "\n",
        "    return {\n",
        "        'accuracy': accuracy,\n",
        "        'application_rate': application_rate,\n",
        "        'success_rate': success_rate,\n",
        "        'failure_rate': failure_rate,\n",
        "        'not_applied_rate': not_applied_rate,\n",
        "        'coverage': coverage,\n",
        "        'diversity': diversity,\n",
        "        'novelty_rate': novelty_rate\n",
        "    }\n",
        "\n",
        "# Dữ liệu theo dõi (ví dụ)\n",
        "recommendation_tracking = {\n",
        "    'P1': {\n",
        "        'T12': {'status': 'Áp dụng', 'outcome': 'Thành công'},\n",
        "        'T25': {'status': 'Không áp dụng', 'outcome': None},\n",
        "        'T31': {'status': 'Áp dụng', 'outcome': 'Thất bại'}\n",
        "    },\n",
        "    'P2': {\n",
        "        'T1': {'status': 'Áp dụng', 'outcome': 'Thành công'},\n",
        "        'T18': {'status': 'Áp dụng', 'outcome': 'Thất bại'},\n",
        "        'T33': {'status': 'Không áp dụng', 'outcome': None},\n",
        "        'T42': {'status': 'Áp dụng', 'outcome': 'Thành công'}\n",
        "    },\n",
        "    'P3': {\n",
        "        'T5': {'status': 'Áp dụng', 'outcome': 'Thành công'},\n",
        "        'T9': {'status': 'Không áp dụng', 'outcome': None}\n",
        "    },\n",
        "    # ... Thêm dữ liệu cho các bệnh nhân khác\n",
        "}\n",
        "\n",
        "# Giả sử có danh sách tất cả các PatientID và Treatment\n",
        "all_patient_ids = [f'P{i}' for i in range(1, 301)]  # Thay 301 bằng số lượng bệnh nhân thực tế\n",
        "all_treatments = [f'T{i}' for i in range(1, 51)]   # Thay 51 bằng số lượng phương pháp điều trị thực tế\n",
        "\n",
        "metrics = evaluate_recommendations(recommendation_tracking, all_patient_ids, all_treatments)\n",
        "\n",
        "print(\"\\nĐánh giá chất lượng khuyến nghị:\")\n",
        "print(f\"  - Độ chính xác (Accuracy): {metrics['accuracy']:.2f}%\")\n",
        "print(f\"  - Tỷ lệ áp dụng (Application Rate): {metrics['application_rate']:.2f}%\")\n",
        "print(f\"  - Tỷ lệ thành công (Success Rate): {metrics['success_rate']:.2f}%\")\n",
        "print(f\"  - Tỷ lệ thất bại (Failure Rate): {metrics['failure_rate']:.2f}%\")\n",
        "print(f\"  - Tỷ lệ không áp dụng (Not Applied Rate): {metrics['not_applied_rate']:.2f}%\")\n",
        "print(f\"  - Độ bao phủ (Coverage): {metrics['coverage']:.2f}%\")\n",
        "print(f\"  - Độ đa dạng (Diversity): {metrics['diversity']}\")\n",
        "print(f\"  - Tỷ lệ mới lạ (Novelty Rate): {metrics['novelty_rate']:.2f}%\")"
      ],
      "metadata": {
        "id": "VjLmPWP2ceXh",
        "colab": {
          "base_uri": "https://localhost:8080/"
        },
        "outputId": "17dfd81e-1cb9-4951-e488-871d10f8319b"
      },
      "execution_count": 12,
      "outputs": [
        {
          "output_type": "stream",
          "name": "stdout",
          "text": [
            "\n",
            "Đánh giá chất lượng khuyến nghị:\n",
            "  - Độ chính xác (Accuracy): 66.67%\n",
            "  - Tỷ lệ áp dụng (Application Rate): 66.67%\n",
            "  - Tỷ lệ thành công (Success Rate): 44.44%\n",
            "  - Tỷ lệ thất bại (Failure Rate): 22.22%\n",
            "  - Tỷ lệ không áp dụng (Not Applied Rate): 33.33%\n",
            "  - Độ bao phủ (Coverage): 1.00%\n",
            "  - Độ đa dạng (Diversity): 3\n",
            "  - Tỷ lệ mới lạ (Novelty Rate): 0.00%\n"
          ]
        }
      ]
    }
  ]
}