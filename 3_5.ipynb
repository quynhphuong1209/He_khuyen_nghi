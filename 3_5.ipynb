{
  "nbformat": 4,
  "nbformat_minor": 0,
  "metadata": {
    "colab": {
      "provenance": []
    },
    "kernelspec": {
      "name": "python3",
      "display_name": "Python 3"
    },
    "language_info": {
      "name": "python"
    }
  },
  "cells": [
    {
      "cell_type": "markdown",
      "source": [
        "# =============================\n",
        "# BÀI TẬP 5: Ứng dụng trong y tế - Khuyến nghị phác đồ điều trị dựa trên luật kết hợp\n",
        "# ============================="
      ],
      "metadata": {
        "id": "vdqdrvEucWZH"
      }
    },
    {
      "cell_type": "code",
      "source": [
        "import pandas as pd\n",
        "import numpy as np\n",
        "from mlxtend.frequent_patterns import apriori, association_rules\n",
        "from mlxtend.preprocessing import TransactionEncoder\n",
        "import matplotlib.pyplot as plt\n",
        "import seaborn as sns"
      ],
      "metadata": {
        "id": "8OmyZYUacYhg"
      },
      "execution_count": 1,
      "outputs": []
    },
    {
      "cell_type": "code",
      "execution_count": 2,
      "metadata": {
        "id": "lpN3Ln1-cS8x"
      },
      "outputs": [],
      "source": [
        "# Tạo dữ liệu giả lập\n",
        "np.random.seed(42)\n",
        "\n",
        "# Tạo thông tin bệnh nhân\n",
        "n_patients = 300\n",
        "patient_ids = [f'P{i}' for i in range(1, n_patients+1)]\n",
        "ages = np.random.randint(18, 90, size=n_patients)\n",
        "genders = np.random.choice(['Nam', 'Nữ'], size=n_patients)\n",
        "conditions = np.random.choice(['Tim mạch', 'Hô hấp', 'Tiêu hóa', 'Thần kinh', 'Nội tiết'],\n",
        "                             size=n_patients)\n",
        "\n",
        "patients = pd.DataFrame({\n",
        "    'PatientID': patient_ids,\n",
        "    'Age': ages,\n",
        "    'Gender': genders,\n",
        "    'Condition': conditions\n",
        "})\n",
        "\n",
        "# Tạo danh sách phương pháp điều trị\n",
        "treatments = [f'T{i}' for i in range(1, 51)]"
      ]
    },
    {
      "cell_type": "code",
      "source": [
        "# TODO: Tạo lịch sử điều trị cho mỗi bệnh nhân\n",
        "# 1. Mỗi bệnh nhân có 3-10 phương pháp điều trị\n",
        "# 2. Phương pháp điều trị phụ thuộc vào bệnh lý\n",
        "# 3. Gán kết quả điều trị (thành công/thất bại)\n",
        "\n"
      ],
      "metadata": {
        "id": "vnU5T6EZcZxx"
      },
      "execution_count": 3,
      "outputs": []
    },
    {
      "cell_type": "code",
      "source": [
        "# TODO: Chuyển đổi lịch sử điều trị thành dữ liệu giao dịch\n",
        "# 1. Mỗi bệnh nhân là một giao dịch\n",
        "# 2. Các phương pháp điều trị là các mục\n",
        "\n"
      ],
      "metadata": {
        "id": "UeRJzBpncbB8"
      },
      "execution_count": 4,
      "outputs": []
    },
    {
      "cell_type": "code",
      "source": [
        "# TODO: Áp dụng thuật toán Apriori và tạo luật kết hợp\n",
        "# 1. Tìm các mẫu hình điều trị phổ biến\n",
        "# 2. Tạo luật kết hợp\n",
        "# 3. Lọc các luật dựa trên kết quả điều trị\n",
        "\n"
      ],
      "metadata": {
        "id": "c9bcF9FGcb9U"
      },
      "execution_count": 5,
      "outputs": []
    },
    {
      "cell_type": "code",
      "source": [
        "# TODO: Xây dựng hệ khuyến nghị phác đồ điều trị\n",
        "# def recommend_treatment(patient_treatments, rules, top_n=5):\n",
        "#     recommendations = []\n",
        "#     for _, rule in rules.iterrows():\n",
        "#         antecedents = set(rule['antecedents'])\n",
        "#         if antecedents.issubset(patient_treatments):\n",
        "#             for treatment in rule['consequents']:\n",
        "#                 if treatment not in patient_treatments:\n",
        "#                     recommendations.append((treatment, rule['confidence'], rule['lift']))\n",
        "#\n",
        "#     # Sắp xếp theo độ tin cậy và độ nâng\n",
        "#     recommendations.sort(key=lambda x: (x[1], x[2]), reverse=True)\n",
        "#     return recommendations[:top_n]\n",
        "\n"
      ],
      "metadata": {
        "id": "EWRhHwA_cc8J"
      },
      "execution_count": 6,
      "outputs": []
    },
    {
      "cell_type": "code",
      "source": [
        "# TODO: Đánh giá chất lượng khuyến nghị và phân tích kết quả\n",
        "\n"
      ],
      "metadata": {
        "id": "VjLmPWP2ceXh"
      },
      "execution_count": 7,
      "outputs": []
    }
  ]
}