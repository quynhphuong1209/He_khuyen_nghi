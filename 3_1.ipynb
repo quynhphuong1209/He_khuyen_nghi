{
  "nbformat": 4,
  "nbformat_minor": 0,
  "metadata": {
    "colab": {
      "provenance": []
    },
    "kernelspec": {
      "name": "python3",
      "display_name": "Python 3"
    },
    "language_info": {
      "name": "python"
    }
  },
  "cells": [
    {
      "cell_type": "markdown",
      "source": [
        "# =============================\n",
        "# BÀI TẬP 1: Mô hình cây quyết định cho hệ khuyến nghị\n",
        "# ============================="
      ],
      "metadata": {
        "id": "T3KgEv01cXM1"
      }
    },
    {
      "cell_type": "code",
      "source": [
        "import pandas as pd\n",
        "import numpy as np\n",
        "from sklearn.model_selection import train_test_split\n",
        "from sklearn.tree import DecisionTreeClassifier, plot_tree\n",
        "from sklearn.metrics import accuracy_score, precision_score, recall_score, f1_score\n",
        "from sklearn.metrics import confusion_matrix, roc_curve, auc\n",
        "import matplotlib.pyplot as plt\n",
        "import seaborn as sns\n",
        "import os\n",
        "import urllib.request\n",
        "import zipfile"
      ],
      "metadata": {
        "id": "kucM1r4dcZ84"
      },
      "execution_count": null,
      "outputs": []
    },
    {
      "cell_type": "code",
      "execution_count": 1,
      "metadata": {
        "colab": {
          "base_uri": "https://localhost:8080/"
        },
        "id": "CY7JTEa9aZSM",
        "outputId": "777bd056-73d6-4e3e-fb39-2aff4b6406c3"
      },
      "outputs": [
        {
          "output_type": "stream",
          "name": "stdout",
          "text": [
            "Downloading MovieLens 100K dataset...\n",
            "Extracting MovieLens 100K dataset...\n"
          ]
        }
      ],
      "source": [
        "ml_100k_url = 'https://files.grouplens.org/datasets/movielens/ml-100k.zip'\n",
        "ml_100k_zip = 'ml-100k.zip'\n",
        "ml_100k_folder = 'ml-100k'\n",
        "\n",
        "if not os.path.exists(ml_100k_folder):\n",
        "    if not os.path.exists(ml_100k_zip):\n",
        "        print('Downloading MovieLens 100K dataset...')\n",
        "        urllib.request.urlretrieve(ml_100k_url, ml_100k_zip)\n",
        "    print('Extracting MovieLens 100K dataset...')\n",
        "    with zipfile.ZipFile(ml_100k_zip, 'r') as zip_ref:\n",
        "        zip_ref.extractall('.')\n",
        "\n",
        "# Đọc dữ liệu đánh giá\n",
        "ratings_cols = ['userID', 'itemID', 'rating', 'timestamp']\n",
        "ratings_df = pd.read_csv('ml-100k/u.data', sep='\\t', names=ratings_cols, encoding='latin-1')\n",
        "\n",
        "# Đọc thông tin người dùng\n",
        "users_cols = ['user_id', 'age', 'gender', 'occupation', 'zip_code']\n",
        "users = pd.read_csv('ml-100k/u.user', sep='|', names=users_cols, encoding='latin-1')\n",
        "\n",
        "# Đọc thông tin phim\n",
        "movies_cols = ['movie_id', 'title', 'release_date', 'video_release_date',\n",
        "               'imdb_url', 'unknown', 'Action', 'Adventure', 'Animation',\n",
        "               'Children', 'Comedy', 'Crime', 'Documentary', 'Drama', 'Fantasy',\n",
        "               'Film-Noir', 'Horror', 'Musical', 'Mystery', 'Romance', 'Sci-Fi',\n",
        "               'Thriller', 'War', 'Western']\n",
        "movies = pd.read_csv('ml-100k/u.item', sep='|', names=movies_cols, encoding='latin-1')"
      ]
    },
    {
      "cell_type": "code",
      "source": [
        "# TODO: Tiền xử lý dữ liệu\n",
        "# 1. Chuyển đổi đặc trưng phân loại (gender, occupation) thành one-hot encoding\n",
        "# 2. Chuẩn hóa đặc trưng số (age)\n",
        "# 3. Kết hợp đặc trưng người dùng và phim với đánh giá\n",
        "\n",
        "\n"
      ],
      "metadata": {
        "id": "chIDOjvacN-f"
      },
      "execution_count": null,
      "outputs": []
    },
    {
      "cell_type": "code",
      "source": [
        "# TODO: Tạo biến mục tiêu (thích/không thích)\n",
        "# ratings_df['liked'] = ratings_df['rating'] >= 4\n",
        "\n",
        "\n"
      ],
      "metadata": {
        "id": "bxCW6twbcPjx"
      },
      "execution_count": null,
      "outputs": []
    },
    {
      "cell_type": "code",
      "source": [
        "# TODO: Chia dữ liệu thành tập huấn luyện và tập kiểm tra\n",
        "\n",
        "\n",
        "\n"
      ],
      "metadata": {
        "id": "7Z2h_CetcRD2"
      },
      "execution_count": null,
      "outputs": []
    },
    {
      "cell_type": "code",
      "source": [
        "# TODO: Xây dựng và huấn luyện mô hình cây quyết định\n",
        "\n",
        "\n",
        "\n"
      ],
      "metadata": {
        "id": "B3vZWzrUcSMA"
      },
      "execution_count": null,
      "outputs": []
    },
    {
      "cell_type": "code",
      "source": [
        "# TODO: Đánh giá hiệu suất mô hình\n",
        "\n",
        "\n",
        "\n"
      ],
      "metadata": {
        "id": "P_X1S0NscTV8"
      },
      "execution_count": null,
      "outputs": []
    },
    {
      "cell_type": "code",
      "source": [
        "# TODO: Trực quan hóa cây quyết định và phân tích đặc trưng quan trọng\n",
        "\n",
        "\n"
      ],
      "metadata": {
        "id": "NRH8a-91cUci"
      },
      "execution_count": null,
      "outputs": []
    }
  ]
}